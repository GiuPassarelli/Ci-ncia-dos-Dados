{
 "cells": [
  {
   "cell_type": "code",
   "execution_count": 1,
   "metadata": {},
   "outputs": [
    {
     "name": "stdout",
     "output_type": "stream",
     "text": [
      "Esperamos trabalhar no diretório\n",
      "C:\\Users\\gb_pa\\Downloads\n"
     ]
    }
   ],
   "source": [
    "#Pergunta: O acesso à informação varia entre as regiões do Brasil? A renda média por domicílio influencia esse resultado?\n",
    "\n",
    "import pandas as pd\n",
    "%matplotlib inline\n",
    "import matplotlib.pyplot as plt\n",
    "import matplotlib\n",
    "\n",
    "import os\n",
    "print('Esperamos trabalhar no diretório')\n",
    "print(os.getcwd())"
   ]
  },
  {
   "cell_type": "code",
   "execution_count": 2,
   "metadata": {},
   "outputs": [],
   "source": [
    "dados = pd.read_excel('NewDOM2015.xlsx')"
   ]
  },
  {
   "cell_type": "code",
   "execution_count": 3,
   "metadata": {},
   "outputs": [],
   "source": [
    "dados2 = dados.loc[:,['Column3','Column29','Column35','Column36','Column78']]"
   ]
  },
  {
   "cell_type": "code",
   "execution_count": 4,
   "metadata": {},
   "outputs": [],
   "source": [
    "#dados2.Column3 = dados.Column3.astype('category')\n",
    "#dados2.Column3.cat.categories = (11,12,13,14,15,16,17,21,22,23,24,25,26,27,28,29,31,32,33,35,41,42,43,50,51,52,53,'UF')\n",
    "#11:Rondônia #12:Acre #13:Amazonas #14:Roraima #15:Pará #16:Amapá #17:Tocantins #21:Maranhão #22:Piauí #23:Ceará #24:RN #25:Paraíba\n",
    "#26:Pernambuco #27:Alagoas #28:Sergipe #29:Bahia #31:MG #32:ES #33:RJ #35:SP #41:Paraná #42:SC #43:RS #50:MS #51:MT #52:GO #53:DF\n",
    "#UF:UF"
   ]
  },
  {
   "cell_type": "code",
   "execution_count": 5,
   "metadata": {},
   "outputs": [],
   "source": [
    "dados2.Column29 = dados.Column29.astype('category')\n",
    "dados2.Column29.cat.categories = ('Sim', 'Não','V0220')"
   ]
  },
  {
   "cell_type": "code",
   "execution_count": 6,
   "metadata": {},
   "outputs": [],
   "source": [
    "dados2.Column35 = dados.Column35.astype('category')\n",
    "dados2.Column35.cat.categories = ('Sim', 'Não','V0225')"
   ]
  },
  {
   "cell_type": "code",
   "execution_count": 7,
   "metadata": {},
   "outputs": [
    {
     "data": {
      "text/html": [
       "<div>\n",
       "<table border=\"1\" class=\"dataframe\">\n",
       "  <thead>\n",
       "    <tr style=\"text-align: right;\">\n",
       "      <th></th>\n",
       "      <th>Column3</th>\n",
       "      <th>Column29</th>\n",
       "      <th>Column35</th>\n",
       "      <th>Column36</th>\n",
       "      <th>Column78</th>\n",
       "    </tr>\n",
       "  </thead>\n",
       "  <tbody>\n",
       "    <tr>\n",
       "      <th>0</th>\n",
       "      <td>UF</td>\n",
       "      <td>V0220</td>\n",
       "      <td>V0225</td>\n",
       "      <td>V0226</td>\n",
       "      <td>V4621</td>\n",
       "    </tr>\n",
       "    <tr>\n",
       "      <th>1</th>\n",
       "      <td>11</td>\n",
       "      <td>Sim</td>\n",
       "      <td>Não</td>\n",
       "      <td>Sim</td>\n",
       "      <td>800.0</td>\n",
       "    </tr>\n",
       "    <tr>\n",
       "      <th>2</th>\n",
       "      <td>11</td>\n",
       "      <td>NaN</td>\n",
       "      <td>NaN</td>\n",
       "      <td>NaN</td>\n",
       "      <td>NaN</td>\n",
       "    </tr>\n",
       "    <tr>\n",
       "      <th>3</th>\n",
       "      <td>11</td>\n",
       "      <td>Sim</td>\n",
       "      <td>Não</td>\n",
       "      <td>Não</td>\n",
       "      <td>1150.0</td>\n",
       "    </tr>\n",
       "    <tr>\n",
       "      <th>4</th>\n",
       "      <td>11</td>\n",
       "      <td>Sim</td>\n",
       "      <td>Sim</td>\n",
       "      <td>Sim</td>\n",
       "      <td>793.0</td>\n",
       "    </tr>\n",
       "  </tbody>\n",
       "</table>\n",
       "</div>"
      ],
      "text/plain": [
       "  Column3 Column29 Column35 Column36 Column78\n",
       "0      UF    V0220    V0225    V0226    V4621\n",
       "1      11      Sim      Não      Sim    800.0\n",
       "2      11      NaN      NaN      NaN      NaN\n",
       "3      11      Sim      Não      Não   1150.0\n",
       "4      11      Sim      Sim      Sim    793.0"
      ]
     },
     "execution_count": 7,
     "metadata": {},
     "output_type": "execute_result"
    }
   ],
   "source": [
    "dados2.Column36 = dados.Column36.astype('category')\n",
    "dados2.Column36.cat.categories = ('Sim', 'Não','V0226')\n",
    "dados2.head()"
   ]
  },
  {
   "cell_type": "code",
   "execution_count": 8,
   "metadata": {
    "collapsed": true
   },
   "outputs": [],
   "source": [
    "dados2.columns = ['UF','Tem Celular','Tem Rádio','Tem Televisão em Cores','RM domiciliar per capita']"
   ]
  },
  {
   "cell_type": "code",
   "execution_count": 9,
   "metadata": {},
   "outputs": [],
   "source": [
    "dados3 = dados2.dropna(how='any')"
   ]
  },
  {
   "cell_type": "code",
   "execution_count": 10,
   "metadata": {},
   "outputs": [],
   "source": [
    "dados4 = dados3.iloc[1:,:]"
   ]
  },
  {
   "cell_type": "code",
   "execution_count": 11,
   "metadata": {},
   "outputs": [
    {
     "name": "stderr",
     "output_type": "stream",
     "text": [
      "C:\\Users\\gb_pa\\Documents\\Anaconda\\lib\\site-packages\\ipykernel\\__main__.py:1: SettingWithCopyWarning: \n",
      "A value is trying to be set on a copy of a slice from a DataFrame.\n",
      "Try using .loc[row_indexer,col_indexer] = value instead\n",
      "\n",
      "See the caveats in the documentation: http://pandas.pydata.org/pandas-docs/stable/indexing.html#indexing-view-versus-copy\n",
      "  if __name__ == '__main__':\n"
     ]
    }
   ],
   "source": [
    "dados4['UF'] = dados4['UF'].astype('int')"
   ]
  },
  {
   "cell_type": "code",
   "execution_count": 12,
   "metadata": {},
   "outputs": [
    {
     "data": {
      "text/plain": [
       "UF                             int32\n",
       "Tem Celular                 category\n",
       "Tem Rádio                   category\n",
       "Tem Televisão em Cores      category\n",
       "RM domiciliar per capita      object\n",
       "dtype: object"
      ]
     },
     "execution_count": 12,
     "metadata": {},
     "output_type": "execute_result"
    }
   ],
   "source": [
    "dados4.dtypes"
   ]
  },
  {
   "cell_type": "code",
   "execution_count": 13,
   "metadata": {},
   "outputs": [],
   "source": [
    "dados4.to_csv('Projeto1.csv')"
   ]
  },
  {
   "cell_type": "code",
   "execution_count": 14,
   "metadata": {},
   "outputs": [
    {
     "name": "stderr",
     "output_type": "stream",
     "text": [
      "C:\\Users\\gb_pa\\Documents\\Anaconda\\lib\\site-packages\\ipykernel\\__main__.py:16: SettingWithCopyWarning: \n",
      "A value is trying to be set on a copy of a slice from a DataFrame.\n",
      "Try using .loc[row_indexer,col_indexer] = value instead\n",
      "\n",
      "See the caveats in the documentation: http://pandas.pydata.org/pandas-docs/stable/indexing.html#indexing-view-versus-copy\n"
     ]
    }
   ],
   "source": [
    "#dados4.UF.cat.categories = ('Norte','Norte','Norte','Norte','Norte','Norte','Norte','NE','NE','NE','NE','NE','NE','NE','NE','NE','SE','SE','SE','SE','Sul','Sul','Sul','CO','CO','CO','CO')\n",
    "#dados4['UF'] = dados4['UF'].replace({'UF':{'11': 'Norte'}})\n",
    "\n",
    "def funcao(dados4):\n",
    "    if dados4.UF >=11 and dados4.UF <= 17:\n",
    "        return 'Norte'\n",
    "    if dados4.UF >=20 and dados4.UF <= 29:\n",
    "        return 'NE'\n",
    "    if dados4.UF >=30 and dados4.UF <= 35:\n",
    "        return 'SE'\n",
    "    if dados4.UF >=40 and dados4.UF <= 43:\n",
    "        return 'Sul'\n",
    "    if dados4.UF >=50 and dados4.UF <= 53:\n",
    "        return 'CO'\n",
    "\n",
    "dados4['Regiao'] = dados4.apply(funcao, axis=1)"
   ]
  },
  {
   "cell_type": "code",
   "execution_count": 15,
   "metadata": {},
   "outputs": [
    {
     "name": "stderr",
     "output_type": "stream",
     "text": [
      "C:\\Users\\gb_pa\\Documents\\Anaconda\\lib\\site-packages\\pandas\\core\\generic.py:2773: SettingWithCopyWarning: \n",
      "A value is trying to be set on a copy of a slice from a DataFrame.\n",
      "Try using .loc[row_indexer,col_indexer] = value instead\n",
      "\n",
      "See the caveats in the documentation: http://pandas.pydata.org/pandas-docs/stable/indexing.html#indexing-view-versus-copy\n",
      "  self[name] = value\n"
     ]
    }
   ],
   "source": [
    "dados4.Regiao = dados4.Regiao.astype('category')"
   ]
  },
  {
   "cell_type": "code",
   "execution_count": 16,
   "metadata": {},
   "outputs": [],
   "source": [
    "dados4 = dados4.iloc[:117601,:]"
   ]
  },
  {
   "cell_type": "code",
   "execution_count": 17,
   "metadata": {
    "collapsed": true
   },
   "outputs": [],
   "source": [
    "dados5 = dados4[dados4['RM domiciliar per capita']!='999999999999.0']"
   ]
  },
  {
   "cell_type": "code",
   "execution_count": 18,
   "metadata": {},
   "outputs": [],
   "source": [
    "tabela1 = (pd.crosstab(dados5['RM domiciliar per capita'],dados5['Regiao'],margins=True,rownames=['RM'],colnames=['Regiao']).round(decimals=0))"
   ]
  },
  {
   "cell_type": "code",
   "execution_count": 24,
   "metadata": {},
   "outputs": [
    {
     "data": {
      "text/html": [
       "<div>\n",
       "<table border=\"1\" class=\"dataframe\">\n",
       "  <thead>\n",
       "    <tr style=\"text-align: right;\">\n",
       "      <th>Regiao</th>\n",
       "      <th>CO</th>\n",
       "      <th>NE</th>\n",
       "      <th>Norte</th>\n",
       "      <th>SE</th>\n",
       "      <th>Sul</th>\n",
       "      <th>All</th>\n",
       "    </tr>\n",
       "    <tr>\n",
       "      <th>RM</th>\n",
       "      <th></th>\n",
       "      <th></th>\n",
       "      <th></th>\n",
       "      <th></th>\n",
       "      <th></th>\n",
       "      <th></th>\n",
       "    </tr>\n",
       "  </thead>\n",
       "  <tbody>\n",
       "    <tr>\n",
       "      <th>0.0</th>\n",
       "      <td>127</td>\n",
       "      <td>99</td>\n",
       "      <td>58</td>\n",
       "      <td>274</td>\n",
       "      <td>121</td>\n",
       "      <td>679</td>\n",
       "    </tr>\n",
       "    <tr>\n",
       "      <th>10.0</th>\n",
       "      <td>0</td>\n",
       "      <td>3</td>\n",
       "      <td>0</td>\n",
       "      <td>1</td>\n",
       "      <td>0</td>\n",
       "      <td>4</td>\n",
       "    </tr>\n",
       "    <tr>\n",
       "      <th>100.0</th>\n",
       "      <td>15</td>\n",
       "      <td>142</td>\n",
       "      <td>76</td>\n",
       "      <td>50</td>\n",
       "      <td>21</td>\n",
       "      <td>304</td>\n",
       "    </tr>\n",
       "    <tr>\n",
       "      <th>1000.0</th>\n",
       "      <td>266</td>\n",
       "      <td>349</td>\n",
       "      <td>245</td>\n",
       "      <td>729</td>\n",
       "      <td>429</td>\n",
       "      <td>2018</td>\n",
       "    </tr>\n",
       "    <tr>\n",
       "      <th>10000.0</th>\n",
       "      <td>30</td>\n",
       "      <td>16</td>\n",
       "      <td>7</td>\n",
       "      <td>74</td>\n",
       "      <td>36</td>\n",
       "      <td>163</td>\n",
       "    </tr>\n",
       "  </tbody>\n",
       "</table>\n",
       "</div>"
      ],
      "text/plain": [
       "Regiao    CO   NE  Norte   SE  Sul   All\n",
       "RM                                      \n",
       "0.0      127   99     58  274  121   679\n",
       "10.0       0    3      0    1    0     4\n",
       "100.0     15  142     76   50   21   304\n",
       "1000.0   266  349    245  729  429  2018\n",
       "10000.0   30   16      7   74   36   163"
      ]
     },
     "execution_count": 24,
     "metadata": {},
     "output_type": "execute_result"
    }
   ],
   "source": [
    "tabela1.head()"
   ]
  },
  {
   "cell_type": "code",
   "execution_count": 20,
   "metadata": {},
   "outputs": [
    {
     "data": {
      "text/plain": [
       "<matplotlib.axes._subplots.AxesSubplot at 0x1e4a69306d8>"
      ]
     },
     "execution_count": 20,
     "metadata": {},
     "output_type": "execute_result"
    },
    {
     "data": {
      "image/png": "[encoded data removed]",
      "text/plain": [
       "<matplotlib.figure.Figure at 0x1e4a6930e48>"
      ]
     },
     "metadata": {},
     "output_type": "display_data"
    }
   ],
   "source": [
    "tabela1.plot(kind='box')"
   ]
  },
  {
   "cell_type": "code",
   "execution_count": 32,
   "metadata": {},
   "outputs": [
    {
     "data": {
      "text/plain": [
       "Sim      91.689217\n",
       "Não       8.310783\n",
       "V0220     0.000000\n",
       "Name: Tem Celular, dtype: float64"
      ]
     },
     "execution_count": 32,
     "metadata": {},
     "output_type": "execute_result"
    }
   ],
   "source": [
    "dados5['Tem Celular'].value_counts(True) * 100"
   ]
  },
  {
   "cell_type": "code",
   "execution_count": 35,
   "metadata": {},
   "outputs": [
    {
     "data": {
      "text/html": [
       "<div>\n",
       "<table border=\"1\" class=\"dataframe\">\n",
       "  <thead>\n",
       "    <tr style=\"text-align: right;\">\n",
       "      <th>Regiao</th>\n",
       "      <th>CO</th>\n",
       "      <th>NE</th>\n",
       "      <th>Norte</th>\n",
       "      <th>SE</th>\n",
       "      <th>Sul</th>\n",
       "    </tr>\n",
       "    <tr>\n",
       "      <th>Tem Celular</th>\n",
       "      <th></th>\n",
       "      <th></th>\n",
       "      <th></th>\n",
       "      <th></th>\n",
       "      <th></th>\n",
       "    </tr>\n",
       "  </thead>\n",
       "  <tbody>\n",
       "    <tr>\n",
       "      <th>Sim</th>\n",
       "      <td>0.102467</td>\n",
       "      <td>0.248378</td>\n",
       "      <td>0.126596</td>\n",
       "      <td>0.283696</td>\n",
       "      <td>0.155756</td>\n",
       "    </tr>\n",
       "    <tr>\n",
       "      <th>Não</th>\n",
       "      <td>0.004614</td>\n",
       "      <td>0.030469</td>\n",
       "      <td>0.016965</td>\n",
       "      <td>0.021727</td>\n",
       "      <td>0.009333</td>\n",
       "    </tr>\n",
       "    <tr>\n",
       "      <th>V0220</th>\n",
       "      <td>0.000000</td>\n",
       "      <td>0.000000</td>\n",
       "      <td>0.000000</td>\n",
       "      <td>0.000000</td>\n",
       "      <td>0.000000</td>\n",
       "    </tr>\n",
       "  </tbody>\n",
       "</table>\n",
       "</div>"
      ],
      "text/plain": [
       "Regiao             CO        NE     Norte        SE       Sul\n",
       "Tem Celular                                                  \n",
       "Sim          0.102467  0.248378  0.126596  0.283696  0.155756\n",
       "Não          0.004614  0.030469  0.016965  0.021727  0.009333\n",
       "V0220        0.000000  0.000000  0.000000  0.000000  0.000000"
      ]
     },
     "execution_count": 35,
     "metadata": {},
     "output_type": "execute_result"
    }
   ],
   "source": [
    "pd.crosstab(dados5['Tem Celular'], dados5['Regiao'], normalize=True)"
   ]
  },
  {
   "cell_type": "code",
   "execution_count": 47,
   "metadata": {},
   "outputs": [
    {
     "data": {
      "text/plain": [
       "<matplotlib.text.Text at 0x1e4a96835f8>"
      ]
     },
     "execution_count": 47,
     "metadata": {},
     "output_type": "execute_result"
    },
    {
     "data": {
      "image/png": "[encoded data removed]",
      "text/plain": [
       "<matplotlib.figure.Figure at 0x1e4a7ecf5c0>"
      ]
     },
     "metadata": {},
     "output_type": "display_data"
    }
   ],
   "source": [
    "ct2 = pd.crosstab(dados5['Tem Celular'], dados5['Regiao'])\n",
    "ct2 = (ct2/ct2.sum().sum()*100).round(decimals=0)\n",
    "ct2.plot(kind='bar', color=('purple', 'blue','orange','red','pink'))\n",
    "plt.ylabel('Frequência Relativa (em %)')"
   ]
  },
  {
   "cell_type": "code",
   "execution_count": 42,
   "metadata": {},
   "outputs": [
    {
     "data": {
      "text/plain": [
       "<matplotlib.text.Text at 0x1e4a7ea25f8>"
      ]
     },
     "execution_count": 42,
     "metadata": {},
     "output_type": "execute_result"
    },
    {
     "data": {
      "image/png": "[encoded data removed]",
      "text/plain": [
       "<matplotlib.figure.Figure at 0x1e4a7e16e80>"
      ]
     },
     "metadata": {},
     "output_type": "display_data"
    }
   ],
   "source": [
    "ct2 = pd.crosstab(dados5['Regiao'], dados5['Tem Celular'])\n",
    "ct2 = (ct2/ct2.sum().sum()*100).round(decimals=0)\n",
    "ct2.plot(kind='bar', color=('pink', 'purple'))\n",
    "plt.ylabel('Frequência Relativa (em %)')"
   ]
  },
  {
   "cell_type": "code",
   "execution_count": 23,
   "metadata": {},
   "outputs": [
    {
     "data": {
      "text/plain": [
       "UF                             int32\n",
       "Tem Celular                 category\n",
       "Tem Rádio                   category\n",
       "Tem Televisão em Cores      category\n",
       "RM domiciliar per capita      object\n",
       "Regiao                      category\n",
       "dtype: object"
      ]
     },
     "execution_count": 23,
     "metadata": {},
     "output_type": "execute_result"
    }
   ],
   "source": [
    "dados4.dtypes"
   ]
  },
  {
   "cell_type": "code",
   "execution_count": null,
   "metadata": {
    "collapsed": true
   },
   "outputs": [],
   "source": [
    "#dados5.sort_values(by='RM domiciliar per capita')"
   ]
  },
  {
   "cell_type": "code",
   "execution_count": null,
   "metadata": {
    "collapsed": true
   },
   "outputs": [],
   "source": [
    "dados5.to_csv('Projeto1.csv')"
   ]
  }
 ],
 "metadata": {
  "kernelspec": {
   "display_name": "Python 3",
   "language": "python",
   "name": "python3"
  },
  "language_info": {
   "codemirror_mode": {
    "name": "ipython",
    "version": 3
   },
   "file_extension": ".py",
   "mimetype": "text/x-python",
   "name": "python",
   "nbconvert_exporter": "python",
   "pygments_lexer": "ipython3",
   "version": "3.6.0"
  }
 },
 "nbformat": 4,
 "nbformat_minor": 2
}
