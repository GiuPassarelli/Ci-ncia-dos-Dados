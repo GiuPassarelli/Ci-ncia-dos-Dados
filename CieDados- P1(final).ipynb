{
 "cells": [
  {
   "cell_type": "markdown",
   "metadata": {},
   "source": [
    "___\n",
    "# Ciência dos Dados - PROJETO 1"
   ]
  },
  {
   "cell_type": "markdown",
   "metadata": {},
   "source": [
    "## Giulia Braga Passarelli"
   ]
  },
  {
   "cell_type": "markdown",
   "metadata": {},
   "source": [
    "## Informação Nas Regiões"
   ]
  },
  {
   "cell_type": "markdown",
   "metadata": {},
   "source": [
    "___\n",
    "## Introdução\n",
    "\n",
    "O acesso à informação, não só por meio da Internet, tornou-se uma necessidade no mundo atual globalizado. Porém, há diversas áreas do Brasil que não possuem esse benefício, muitas vezes por conta do alto nível de pobreza nas mesmas. Assim, para validar o quanto esse fenômeno afeta no alcance do conhecimento ao redor do país, realizamos a nossa pesquisa.\n",
    "\n",
    "Esse projeto possui o objetivo de analisar o acesso à informação entre as diferentes regiões do Brasil e a sua relação com a renda domiciliar média de cada região. E, assim, responder a pergunta: Regiões com maior renda domiciliar média possuem maior acesso à informação?\n",
    "\n",
    "Para isso consideramos a presença de telefones móveis, rádios e televisões em cores como esse acesso. E utilizamos dados da PNAD2015."
   ]
  },
  {
   "cell_type": "markdown",
   "metadata": {},
   "source": [
    "___\n",
    "## Análise e Resultados"
   ]
  },
  {
   "cell_type": "code",
   "execution_count": 1,
   "metadata": {
    "collapsed": true
   },
   "outputs": [],
   "source": [
    "%matplotlib inline\n",
    "import pandas as pd\n",
    "import matplotlib.pyplot as plt\n",
    "import numpy as np\n",
    "import os"
   ]
  },
  {
   "cell_type": "code",
   "execution_count": 2,
   "metadata": {},
   "outputs": [
    {
     "name": "stdout",
     "output_type": "stream",
     "text": [
      "Esperamos trabalhar no diretório\n",
      "C:\\Users\\gb_pa\\Downloads\n"
     ]
    }
   ],
   "source": [
    "print('Esperamos trabalhar no diretório')\n",
    "print(os.getcwd())"
   ]
  },
  {
   "cell_type": "code",
   "execution_count": 3,
   "metadata": {
    "collapsed": true
   },
   "outputs": [],
   "source": [
    "dados = pd.read_csv('DOM2015.csv',sep=',')"
   ]
  },
  {
   "cell_type": "code",
   "execution_count": 4,
   "metadata": {
    "collapsed": true
   },
   "outputs": [],
   "source": [
    "dados2 = dados.loc[:,['UF','V0220','V0225','V0226','V4621']]"
   ]
  },
  {
   "cell_type": "code",
   "execution_count": 5,
   "metadata": {
    "collapsed": true
   },
   "outputs": [],
   "source": [
    "dados2.columns = ['UF','Tem Celular','Tem Rádio','Tem Televisão em Cores','RMDpC']"
   ]
  },
  {
   "cell_type": "code",
   "execution_count": 6,
   "metadata": {
    "collapsed": true
   },
   "outputs": [],
   "source": [
    "dados2['Tem Celular'] = dados2['Tem Celular'].astype('category')\n",
    "dados2['Tem Celular'].cat.categories = ('Sim', 'Não')"
   ]
  },
  {
   "cell_type": "code",
   "execution_count": 7,
   "metadata": {
    "collapsed": true
   },
   "outputs": [],
   "source": [
    "dados2['Tem Rádio'] = dados2['Tem Rádio'].astype('category')\n",
    "dados2['Tem Rádio'].cat.categories = ('Sim', 'Não')"
   ]
  },
  {
   "cell_type": "code",
   "execution_count": 8,
   "metadata": {
    "collapsed": true
   },
   "outputs": [],
   "source": [
    "dados2['Tem Televisão em Cores'] = dados2['Tem Televisão em Cores'].astype('category')\n",
    "dados2['Tem Televisão em Cores'].cat.categories = ('Sim', 'Não')"
   ]
  },
  {
   "cell_type": "code",
   "execution_count": 9,
   "metadata": {
    "collapsed": true
   },
   "outputs": [],
   "source": [
    "dados3 = dados2.dropna(how='any')"
   ]
  },
  {
   "cell_type": "markdown",
   "metadata": {},
   "source": [
    "## Na primeira parte construímos o dataset apresentado abaixo, removendo as linhas que não possuíam algum dado. Consideramos 'RMDpC' a renda mensal per capita"
   ]
  },
  {
   "cell_type": "code",
   "execution_count": 10,
   "metadata": {},
   "outputs": [
    {
     "data": {
      "text/html": [
       "<div>\n",
       "<table border=\"1\" class=\"dataframe\">\n",
       "  <thead>\n",
       "    <tr style=\"text-align: right;\">\n",
       "      <th></th>\n",
       "      <th>UF</th>\n",
       "      <th>Tem Celular</th>\n",
       "      <th>Tem Rádio</th>\n",
       "      <th>Tem Televisão em Cores</th>\n",
       "      <th>RMDpC</th>\n",
       "    </tr>\n",
       "  </thead>\n",
       "  <tbody>\n",
       "    <tr>\n",
       "      <th>0</th>\n",
       "      <td>11</td>\n",
       "      <td>Sim</td>\n",
       "      <td>Não</td>\n",
       "      <td>Sim</td>\n",
       "      <td>800.0</td>\n",
       "    </tr>\n",
       "    <tr>\n",
       "      <th>2</th>\n",
       "      <td>11</td>\n",
       "      <td>Sim</td>\n",
       "      <td>Não</td>\n",
       "      <td>Não</td>\n",
       "      <td>1150.0</td>\n",
       "    </tr>\n",
       "    <tr>\n",
       "      <th>3</th>\n",
       "      <td>11</td>\n",
       "      <td>Sim</td>\n",
       "      <td>Sim</td>\n",
       "      <td>Sim</td>\n",
       "      <td>793.0</td>\n",
       "    </tr>\n",
       "    <tr>\n",
       "      <th>4</th>\n",
       "      <td>11</td>\n",
       "      <td>Sim</td>\n",
       "      <td>Sim</td>\n",
       "      <td>Não</td>\n",
       "      <td>2900.0</td>\n",
       "    </tr>\n",
       "    <tr>\n",
       "      <th>5</th>\n",
       "      <td>11</td>\n",
       "      <td>Não</td>\n",
       "      <td>Sim</td>\n",
       "      <td>Sim</td>\n",
       "      <td>1990.0</td>\n",
       "    </tr>\n",
       "  </tbody>\n",
       "</table>\n",
       "</div>"
      ],
      "text/plain": [
       "   UF Tem Celular Tem Rádio Tem Televisão em Cores   RMDpC\n",
       "0  11         Sim       Não                    Sim   800.0\n",
       "2  11         Sim       Não                    Não  1150.0\n",
       "3  11         Sim       Sim                    Sim   793.0\n",
       "4  11         Sim       Sim                    Não  2900.0\n",
       "5  11         Não       Sim                    Sim  1990.0"
      ]
     },
     "execution_count": 10,
     "metadata": {},
     "output_type": "execute_result"
    }
   ],
   "source": [
    "dados3.head()"
   ]
  },
  {
   "cell_type": "markdown",
   "metadata": {},
   "source": [
    "## A seguir iremos agrupar as pessoas das mesmas regiões em uma nova coluna do dataset"
   ]
  },
  {
   "cell_type": "code",
   "execution_count": 11,
   "metadata": {},
   "outputs": [
    {
     "name": "stderr",
     "output_type": "stream",
     "text": [
      "C:\\Users\\gb_pa\\Documents\\Anaconda\\lib\\site-packages\\ipykernel\\__main__.py:1: SettingWithCopyWarning: \n",
      "A value is trying to be set on a copy of a slice from a DataFrame.\n",
      "Try using .loc[row_indexer,col_indexer] = value instead\n",
      "\n",
      "See the caveats in the documentation: http://pandas.pydata.org/pandas-docs/stable/indexing.html#indexing-view-versus-copy\n",
      "  if __name__ == '__main__':\n"
     ]
    }
   ],
   "source": [
    "dados3['UF'] = dados3['UF'].astype('int')"
   ]
  },
  {
   "cell_type": "code",
   "execution_count": 12,
   "metadata": {},
   "outputs": [
    {
     "name": "stderr",
     "output_type": "stream",
     "text": [
      "C:\\Users\\gb_pa\\Documents\\Anaconda\\lib\\site-packages\\ipykernel\\__main__.py:13: SettingWithCopyWarning: \n",
      "A value is trying to be set on a copy of a slice from a DataFrame.\n",
      "Try using .loc[row_indexer,col_indexer] = value instead\n",
      "\n",
      "See the caveats in the documentation: http://pandas.pydata.org/pandas-docs/stable/indexing.html#indexing-view-versus-copy\n"
     ]
    }
   ],
   "source": [
    "def funcao(dados3):\n",
    "    if dados3.UF >=11 and dados3.UF <= 17:\n",
    "        return 'Norte'\n",
    "    if dados3.UF >=20 and dados3.UF <= 29:\n",
    "        return 'NE'\n",
    "    if dados3.UF >=30 and dados3.UF <= 35:\n",
    "        return 'SE'\n",
    "    if dados3.UF >=40 and dados3.UF <= 43:\n",
    "        return 'Sul'\n",
    "    if dados3.UF >=50 and dados3.UF <= 53:\n",
    "        return 'CO'\n",
    "\n",
    "dados3['Regiao'] = dados3.apply(funcao, axis=1)"
   ]
  },
  {
   "cell_type": "code",
   "execution_count": 13,
   "metadata": {},
   "outputs": [
    {
     "name": "stderr",
     "output_type": "stream",
     "text": [
      "C:\\Users\\gb_pa\\Documents\\Anaconda\\lib\\site-packages\\pandas\\core\\generic.py:2773: SettingWithCopyWarning: \n",
      "A value is trying to be set on a copy of a slice from a DataFrame.\n",
      "Try using .loc[row_indexer,col_indexer] = value instead\n",
      "\n",
      "See the caveats in the documentation: http://pandas.pydata.org/pandas-docs/stable/indexing.html#indexing-view-versus-copy\n",
      "  self[name] = value\n"
     ]
    }
   ],
   "source": [
    "dados3.Regiao = dados3.Regiao.astype('category')"
   ]
  },
  {
   "cell_type": "markdown",
   "metadata": {},
   "source": [
    "## Feito isso, separamos as rendas em 5 faixas e as analisamos para as diferentes regiões"
   ]
  },
  {
   "cell_type": "code",
   "execution_count": 14,
   "metadata": {},
   "outputs": [
    {
     "name": "stderr",
     "output_type": "stream",
     "text": [
      "C:\\Users\\gb_pa\\Documents\\Anaconda\\lib\\site-packages\\ipykernel\\__main__.py:13: SettingWithCopyWarning: \n",
      "A value is trying to be set on a copy of a slice from a DataFrame.\n",
      "Try using .loc[row_indexer,col_indexer] = value instead\n",
      "\n",
      "See the caveats in the documentation: http://pandas.pydata.org/pandas-docs/stable/indexing.html#indexing-view-versus-copy\n",
      "C:\\Users\\gb_pa\\Documents\\Anaconda\\lib\\site-packages\\pandas\\core\\generic.py:2773: SettingWithCopyWarning: \n",
      "A value is trying to be set on a copy of a slice from a DataFrame.\n",
      "Try using .loc[row_indexer,col_indexer] = value instead\n",
      "\n",
      "See the caveats in the documentation: http://pandas.pydata.org/pandas-docs/stable/indexing.html#indexing-view-versus-copy\n",
      "  self[name] = value\n"
     ]
    }
   ],
   "source": [
    "def faixas(dados3):\n",
    "    x=dados3['RMDpC']\n",
    "    if x<250: \n",
    "        return 1\n",
    "    elif x<500: \n",
    "        return 2\n",
    "    elif x<750: \n",
    "        return 3\n",
    "    elif x<1000: \n",
    "        return 4\n",
    "    return 10\n",
    "renda = dados3.apply(faixas,axis=1)\n",
    "dados3['renda'] = renda\n",
    "dados3.renda = dados3.renda.astype('category')\n",
    "dados3.renda.cat.categories=(['250','500','750','1000','+1000'])"
   ]
  },
  {
   "cell_type": "code",
   "execution_count": 15,
   "metadata": {},
   "outputs": [
    {
     "data": {
      "text/plain": [
       "<matplotlib.text.Text at 0x17f6f420240>"
      ]
     },
     "execution_count": 15,
     "metadata": {},
     "output_type": "execute_result"
    },
    {
     "data": {
      "image/png": "[encoded data removed]",
      "text/plain": [
       "<matplotlib.figure.Figure at 0x17f6e7a09e8>"
      ]
     },
     "metadata": {},
     "output_type": "display_data"
    }
   ],
   "source": [
    "grafico1 = pd.crosstab(dados3['Regiao'],dados3['renda'],normalize='index')\n",
    "grafico1 = (grafico1 *100)\n",
    "\n",
    "grafico1.plot(kind='bar',stacked='True',title='Renda por Região',figsize=(7,7))\n",
    "plt.xlabel('Região')\n",
    "plt.ylabel('Freq em %')"
   ]
  },
  {
   "cell_type": "markdown",
   "metadata": {},
   "source": [
    "## Analisando esse gráfico concluímos que, quanto mais deslocado para baixo está o gráfico, maior é a renda mensal média na região. Assim, a região sul apresenta o maior desse valor, seguido pelas regiões sudeste e centro-oeste, empatadas, o norte e, por último, o nordeste"
   ]
  },
  {
   "cell_type": "code",
   "execution_count": 16,
   "metadata": {},
   "outputs": [
    {
     "data": {
      "text/plain": [
       "<matplotlib.text.Text at 0x17f6f0c9390>"
      ]
     },
     "execution_count": 16,
     "metadata": {},
     "output_type": "execute_result"
    },
    {
     "data": {
      "image/png": "[encoded data removed]",
      "text/plain": [
       "<matplotlib.figure.Figure at 0x17f6ede3400>"
      ]
     },
     "metadata": {},
     "output_type": "display_data"
    }
   ],
   "source": [
    "ct1 = pd.crosstab(dados3['Regiao'], dados3['Tem Celular'])\n",
    "ct1 = (ct1/ct1.sum().sum()*100).round(decimals=0)\n",
    "ct1.plot(kind='bar', color=('pink', 'purple'))\n",
    "plt.ylabel('Frequência Relativa (em %)')"
   ]
  },
  {
   "cell_type": "code",
   "execution_count": 17,
   "metadata": {},
   "outputs": [
    {
     "data": {
      "text/plain": [
       "<matplotlib.text.Text at 0x17f6f18f828>"
      ]
     },
     "execution_count": 17,
     "metadata": {},
     "output_type": "execute_result"
    },
    {
     "data": {
      "image/png": "[encoded data removed]",
      "text/plain": [
       "<matplotlib.figure.Figure at 0x17f6f13c710>"
      ]
     },
     "metadata": {},
     "output_type": "display_data"
    }
   ],
   "source": [
    "ct2 = pd.crosstab(dados3['Regiao'], dados3['Tem Rádio'])\n",
    "ct2 = (ct2/ct2.sum().sum()*100).round(decimals=0)\n",
    "ct2.plot(kind='bar', color=('pink', 'purple'))\n",
    "plt.ylabel('Frequência Relativa (em %)')"
   ]
  },
  {
   "cell_type": "code",
   "execution_count": 18,
   "metadata": {},
   "outputs": [
    {
     "data": {
      "text/plain": [
       "<matplotlib.text.Text at 0x17f6f24db38>"
      ]
     },
     "execution_count": 18,
     "metadata": {},
     "output_type": "execute_result"
    },
    {
     "data": {
      "image/png": "[encoded data removed]",
      "text/plain": [
       "<matplotlib.figure.Figure at 0x17f6f21a4a8>"
      ]
     },
     "metadata": {},
     "output_type": "display_data"
    }
   ],
   "source": [
    "ct3 = pd.crosstab(dados3['Regiao'], dados3['Tem Televisão em Cores'])\n",
    "ct3 = (ct3/ct3.sum().sum()*100).round(decimals=0)\n",
    "ct3.plot(kind='bar', color=('pink', 'purple'))\n",
    "plt.ylabel('Frequência Relativa (em %)')"
   ]
  },
  {
   "cell_type": "markdown",
   "metadata": {},
   "source": [
    "## Fazendo uma análise geral das variáveis utilizadas, percebemos que a proporção de \"Sim\" se mantém alta para o sudeste e nordeste e baixa para o nordeste. Porém essa análise não leva em conta a maior densidade demográfica nas primeiras regiões, e baixa na última. Assim, faremos uma análise mais apropriada a seguir"
   ]
  },
  {
   "cell_type": "markdown",
   "metadata": {},
   "source": [
    "## Consideraremos o acesso à informação como sendo a adição de objetos que a pessoa possui entre celular, rádio e televisão em cores. Quanto maior esse número, maior será o seu acesso"
   ]
  },
  {
   "cell_type": "code",
   "execution_count": 19,
   "metadata": {},
   "outputs": [
    {
     "name": "stderr",
     "output_type": "stream",
     "text": [
      "C:\\Users\\gb_pa\\Documents\\Anaconda\\lib\\site-packages\\ipykernel\\__main__.py:11: SettingWithCopyWarning: \n",
      "A value is trying to be set on a copy of a slice from a DataFrame.\n",
      "Try using .loc[row_indexer,col_indexer] = value instead\n",
      "\n",
      "See the caveats in the documentation: http://pandas.pydata.org/pandas-docs/stable/indexing.html#indexing-view-versus-copy\n"
     ]
    }
   ],
   "source": [
    "def acesso(dados3):\n",
    "    a = 0\n",
    "    if dados3['Tem Celular'] == \"Sim\":\n",
    "        a +=1\n",
    "    if dados3['Tem Rádio'] == \"Sim\":\n",
    "        a +=1\n",
    "    if dados3['Tem Televisão em Cores'] == \"Sim\":\n",
    "        a +=1\n",
    "    return a\n",
    "\n",
    "dados3['Acesso'] = dados3.apply(acesso, axis=1)"
   ]
  },
  {
   "cell_type": "code",
   "execution_count": 20,
   "metadata": {},
   "outputs": [
    {
     "data": {
      "text/plain": [
       "<matplotlib.text.Text at 0x17f6f2eeb70>"
      ]
     },
     "execution_count": 20,
     "metadata": {},
     "output_type": "execute_result"
    },
    {
     "data": {
      "image/png": "[encoded data removed]",
      "text/plain": [
       "<matplotlib.figure.Figure at 0x17f6ee32320>"
      ]
     },
     "metadata": {},
     "output_type": "display_data"
    }
   ],
   "source": [
    "grafico2 = pd.crosstab(dados3['Regiao'], dados3['Acesso'],normalize='index')\n",
    "grafico2.plot(kind='bar', stacked='True',title='Acesso por Região',figsize=(8,6))\n",
    "plt.ylabel('Frequência Relativa (em %)')"
   ]
  },
  {
   "cell_type": "code",
   "execution_count": 21,
   "metadata": {},
   "outputs": [
    {
     "data": {
      "image/png": "[encoded data removed]",
      "text/plain": [
       "<matplotlib.figure.Figure at 0x17f6f46b940>"
      ]
     },
     "metadata": {},
     "output_type": "display_data"
    },
    {
     "data": {
      "image/png": "[encoded data removed]",
      "text/plain": [
       "<matplotlib.figure.Figure at 0x17f6f48eba8>"
      ]
     },
     "metadata": {},
     "output_type": "display_data"
    },
    {
     "data": {
      "image/png": "[encoded data removed]",
      "text/plain": [
       "<matplotlib.figure.Figure at 0x17f6f507c88>"
      ]
     },
     "metadata": {},
     "output_type": "display_data"
    },
    {
     "data": {
      "image/png": "[encoded data removed]",
      "text/plain": [
       "<matplotlib.figure.Figure at 0x17f6f589cc0>"
      ]
     },
     "metadata": {},
     "output_type": "display_data"
    },
    {
     "data": {
      "image/png": "[encoded data removed]",
      "text/plain": [
       "<matplotlib.figure.Figure at 0x17f6f611f28>"
      ]
     },
     "metadata": {},
     "output_type": "display_data"
    }
   ],
   "source": [
    "co = dados3[dados3['Regiao'].isin(['CO'])]\n",
    "ne = dados3[dados3['Regiao'].isin(['NE'])]\n",
    "no = dados3[dados3['Regiao'].isin(['Norte'])]\n",
    "se = dados3[dados3['Regiao'].isin(['SE'])]\n",
    "su = dados3[dados3['Regiao'].isin(['Sul'])]\n",
    "\n",
    "su2 = su.iloc[:,[7]]\n",
    "su3 = su2['Acesso'].value_counts()\n",
    "plot = su3.plot(kind='pie',subplots=True,figsize=(3, 3),title='Acesso à informação no Sul')\n",
    "plt.show()\n",
    "\n",
    "se2 = se.iloc[:,[7]]\n",
    "se3 = se2['Acesso'].value_counts()\n",
    "plot = se3.plot(kind='pie',subplots=True,figsize=(3, 3),title='Acesso à informação no Sudeste')\n",
    "plt.show()\n",
    "\n",
    "ne2 = ne.iloc[:,[7]]\n",
    "ne3 = ne2['Acesso'].value_counts()\n",
    "plot = ne3.plot(kind='pie',subplots=True,figsize=(3, 3),title='Acesso à informação no Nordeste')\n",
    "plt.show()\n",
    "\n",
    "co2 = co.iloc[:,[7]]\n",
    "co3 = co2['Acesso'].value_counts()\n",
    "plot = co3.plot(kind='pie',subplots=True,figsize=(3, 3),title='Acesso à informação no Centro-Oeste')\n",
    "plt.show()\n",
    "\n",
    "no2 = no.iloc[:,[7]]\n",
    "no3 = no2['Acesso'].value_counts()\n",
    "plot = no3.plot(kind='pie',subplots=True,figsize=(3, 3),title='Acesso à informação no Norte')\n",
    "plt.show()"
   ]
  },
  {
   "cell_type": "markdown",
   "metadata": {},
   "source": [
    "## Os gráficos acima indicam a ordem das regiões quando se trata de acesso à informação (em porcentagem de usuários por regiãao), sendo essa: Sul, Sudeste, Nordeste, Centro-Oeste e Norte. E, assim, notamos a semelhança nessa ordem com a do gráfico de renda, apesar do Centro-Oeste ter sido ultrapassado pelo Nordeste nesses gráficos"
   ]
  },
  {
   "cell_type": "markdown",
   "metadata": {},
   "source": [
    "## Para analisarmos melhor o nosso problema, consideramos uma faixa de renda maior e verificamos se a renda mensal domiciliar realmente inffluencia no acesso à informação"
   ]
  },
  {
   "cell_type": "code",
   "execution_count": 22,
   "metadata": {},
   "outputs": [
    {
     "name": "stderr",
     "output_type": "stream",
     "text": [
      "C:\\Users\\gb_pa\\Documents\\Anaconda\\lib\\site-packages\\ipykernel\\__main__.py:16: SettingWithCopyWarning: \n",
      "A value is trying to be set on a copy of a slice from a DataFrame.\n",
      "Try using .loc[row_indexer,col_indexer] = value instead\n",
      "\n",
      "See the caveats in the documentation: http://pandas.pydata.org/pandas-docs/stable/indexing.html#indexing-view-versus-copy\n",
      "C:\\Users\\gb_pa\\Documents\\Anaconda\\lib\\site-packages\\pandas\\core\\generic.py:2773: SettingWithCopyWarning: \n",
      "A value is trying to be set on a copy of a slice from a DataFrame.\n",
      "Try using .loc[row_indexer,col_indexer] = value instead\n",
      "\n",
      "See the caveats in the documentation: http://pandas.pydata.org/pandas-docs/stable/indexing.html#indexing-view-versus-copy\n",
      "  self[name] = value\n"
     ]
    }
   ],
   "source": [
    "#Acesso por renda\n",
    "def faixas_novas(dados3):\n",
    "    x=dados3['RMDpC']\n",
    "    if x<100: return 1\n",
    "    elif x<200: return 2\n",
    "    elif x<300: return 3\n",
    "    elif x<400: return 4\n",
    "    elif x<500: return 5\n",
    "    elif x<600: return 6\n",
    "    elif x<700: return 7\n",
    "    elif x<800: return 8\n",
    "    elif x<900: return 9\n",
    "    elif x<1000: return 10\n",
    "    return 11\n",
    "renda_nova = dados3.apply(faixas_novas,axis=1)\n",
    "dados3['renda_nova'] = renda_nova\n",
    "dados3.renda_nova = dados3.renda_nova.astype('category')\n",
    "dados3.renda_nova.cat.categories=(['100','200','300','400','500','600','700','800','900','1000','+1000'])"
   ]
  },
  {
   "cell_type": "code",
   "execution_count": 23,
   "metadata": {},
   "outputs": [
    {
     "data": {
      "text/plain": [
       "<matplotlib.text.Text at 0x17f6f450630>"
      ]
     },
     "execution_count": 23,
     "metadata": {},
     "output_type": "execute_result"
    },
    {
     "data": {
      "image/png": "[encoded data removed]",
      "text/plain": [
       "<matplotlib.figure.Figure at 0x17f6f3309e8>"
      ]
     },
     "metadata": {},
     "output_type": "display_data"
    }
   ],
   "source": [
    "ph = pd.crosstab(dados3['renda_nova'],dados3['Acesso'],normalize='index')\n",
    "ph.plot(kind='bar',stacked='True',legend=['Sim','Nao'],title='Acesso a informações por Renda',figsize=(9,6))\n",
    "plt.ylabel('Freq em %')\n",
    "plt.xlabel('Renda')"
   ]
  },
  {
   "cell_type": "markdown",
   "metadata": {},
   "source": [
    "## Pelo gráfico acima notamos que, apesar da diferença ser sútil, o acesso realmente aumenta conforme a renda aumenta"
   ]
  },
  {
   "cell_type": "markdown",
   "metadata": {},
   "source": [
    "___\n",
    "# Conclusão "
   ]
  },
  {
   "cell_type": "markdown",
   "metadata": {
    "collapsed": true
   },
   "source": [
    "## A pesquisa comprova que as regiões sul, sudeste e centro-oeste, norte, nordeste, apresentam ordem decrescente de renda domiciliar mensal per capita e, de modo análogo as mesmas regiões (com excessão do centro-oeste que ficou atrás do nordeste) apresentaram ordem decrescente de acesso à informação. Assim, demonstra-se uma relação entre os dois fatores"
   ]
  },
  {
   "cell_type": "code",
   "execution_count": 24,
   "metadata": {
    "collapsed": true
   },
   "outputs": [],
   "source": [
    "dados3.to_csv('P1-final.csv')"
   ]
  }
 ],
 "metadata": {
  "anaconda-cloud": {},
  "kernelspec": {
   "display_name": "Python 3",
   "language": "python",
   "name": "python3"
  },
  "language_info": {
   "codemirror_mode": {
    "name": "ipython",
    "version": 3
   },
   "file_extension": ".py",
   "mimetype": "text/x-python",
   "name": "python",
   "nbconvert_exporter": "python",
   "pygments_lexer": "ipython3",
   "version": "3.6.0"
  }
 },
 "nbformat": 4,
 "nbformat_minor": 1
}
